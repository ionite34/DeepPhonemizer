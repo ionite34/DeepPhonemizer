{
 "cells": [
  {
   "cell_type": "code",
   "execution_count": 1,
   "metadata": {
    "collapsed": true,
    "pycharm": {
     "name": "#%%\n"
    }
   },
   "outputs": [],
   "source": [
    "from dp.preprocess import preprocess\n",
    "from dp.train import train\n",
    "from dict_reader import DictReader\n",
    "from format_ph import *"
   ]
  },
  {
   "cell_type": "code",
   "execution_count": 2,
   "outputs": [
    {
     "name": "stderr",
     "output_type": "stream",
     "text": [
      "\n",
      "Parsing dicts_prod/data_training.dict:   0%|          | 0/113811 [00:00<?, ?lines/s]\u001B[A\n",
      "Parsing dicts_prod/data_training.dict:  38%|███▊      | 43691/113811 [00:00<00:00, 433947.29lines/s]\u001B[A\n",
      "Parsing dicts_prod/data_training.dict:  77%|███████▋  | 87086/113811 [00:00<00:00, 411012.33lines/s]\u001B[A\n",
      "                                                                                                    \u001B[A\n",
      "Parsing dicts_prod/data_validation.dict:   0%|          | 0/12645 [00:00<?, ?lines/s]\u001B[A\n",
      "                                                                                     \u001B[A"
     ]
    }
   ],
   "source": [
    "# Data Format: List of tuples ('en_us', 'word', 'PHONEMES')\n",
    "\n",
    "# Read Dicts\n",
    "dict_train = DictReader('dicts_prod/data_training.dict').dict\n",
    "dict_valid = DictReader('dicts_prod/data_validation.dict').dict\n",
    "\n",
    "# Convert to tuples\n",
    "train_data = []\n",
    "for key in dict_train:\n",
    "    train_data.append(('en_us', key, to_sds(dict_train[key])))\n",
    "val_data = []\n",
    "for key in dict_valid:\n",
    "    val_data.append(('en_us', key, to_sds(dict_valid[key])))"
   ],
   "metadata": {
    "collapsed": false,
    "pycharm": {
     "name": "#%%\n"
    }
   }
  },
  {
   "cell_type": "code",
   "execution_count": 5,
   "outputs": [
    {
     "name": "stderr",
     "output_type": "stream",
     "text": [
      "2022-05-10 14:26:22,215.215 INFO preprocess:  Preprocessing, train data: with 113811 files.\n",
      "2022-05-10 14:26:22,531.531 INFO preprocess:  Processing train data...\n",
      "100%|██████████| 113811/113811 [00:01<00:00, 73166.83it/s]\n",
      "2022-05-10 14:26:24,201.201 INFO preprocess:  \n",
      "Saving datasets to: F:\\Repos\\Python\\DeepPhonemizer\\datasets\n",
      "2022-05-10 14:26:24,668.668 INFO preprocess:  Preprocessing. \n",
      "Train counts (deduplicated): [('en_us', 113811)]\n",
      "Val counts (including duplicates): [('en_us', 12645)]\n"
     ]
    }
   ],
   "source": [
    "config_file = 'dp/configs/autoreg_config.yaml'\n",
    "\n",
    "preprocess(config_file=config_file,\n",
    "           train_data=train_data,\n",
    "           val_data=val_data,\n",
    "           deduplicate_train_data=False)"
   ],
   "metadata": {
    "collapsed": false,
    "pycharm": {
     "name": "#%%\n"
    }
   }
  },
  {
   "cell_type": "code",
   "execution_count": null,
   "outputs": [
    {
     "name": "stderr",
     "output_type": "stream",
     "text": [
      "2022-05-10 14:26:52,736.736 INFO train:  Restoring model from checkpoint: checkpoints/latest_model.pt\n",
      "2022-05-10 14:26:53,090.90 INFO train:  Loaded model with step: 4884\n",
      "2022-05-10 14:26:53,090.90 INFO train:  Overwriting training param: generate_steps 10000 --> 2000\n",
      "2022-05-10 14:26:53,091.91 INFO train:  Overwriting training param: validate_steps 10000 --> 4000\n",
      "2022-05-10 14:26:53,091.91 INFO train:  Overwriting training param: checkpoint_steps 100000 --> 10000\n",
      "2022-05-10 14:26:53,092.92 INFO train:  Checkpoints will be stored at F:\\Repos\\Python\\DeepPhonemizer\\checkpoints\n",
      "Epoch: 45 | Step 4995 | Loss: 8.770e-06: 100%|██████████| 111/111 [00:16<00:00,  6.77it/s]\n",
      "Epoch: 46 | Step 5106 | Loss: 8.065e-06: 100%|██████████| 111/111 [00:16<00:00,  6.88it/s]\n",
      "Epoch: 47 | Step 5217 | Loss: 7.415e-06: 100%|██████████| 111/111 [00:16<00:00,  6.88it/s]\n",
      "Epoch: 48 | Step 5328 | Loss: 6.811e-06: 100%|██████████| 111/111 [00:16<00:00,  6.81it/s]\n",
      "Epoch: 49 | Step 5439 | Loss: 6.254e-06: 100%|██████████| 111/111 [00:16<00:00,  6.80it/s]\n",
      "Epoch: 50 | Step 5550 | Loss: 5.743e-06: 100%|██████████| 111/111 [00:16<00:00,  6.77it/s]\n",
      "Epoch: 51 | Step 5661 | Loss: 5.280e-06: 100%|██████████| 111/111 [00:15<00:00,  6.98it/s]\n",
      "Epoch: 52 | Step 5772 | Loss: 4.860e-06: 100%|██████████| 111/111 [00:16<00:00,  6.65it/s]\n",
      "Epoch: 53 | Step 5883 | Loss: 4.476e-06: 100%|██████████| 111/111 [00:16<00:00,  6.82it/s]\n",
      "Epoch: 54 | Step 5994 | Loss: 4.124e-06: 100%|██████████| 111/111 [00:16<00:00,  6.90it/s]\n",
      "Epoch: 55 | Step 6000 | Loss: 3.946e-06:   5%|▍         | 5/111 [00:00<00:16,  6.49it/s]F:\\Repos\\Python\\DeepPhonemizer\\dp\\training\\evaluation.py:31: RuntimeWarning: invalid value encountered in true_divide\n",
      "  if best_phon_err is None or phon_err / phon_count < best_phon_err / best_phon_count:\n",
      "F:\\Repos\\Python\\DeepPhonemizer\\dp\\training\\evaluation.py:46: RuntimeWarning: invalid value encountered in long_scalars\n",
      "  per = phon_err / phon_count\n",
      "F:\\Repos\\Python\\DeepPhonemizer\\dp\\training\\evaluation.py:50: RuntimeWarning: invalid value encountered in long_scalars\n",
      "  mean_per = sum(phon_errors) / sum(phon_counts)\n",
      "Epoch: 55 | Step 6105 | Loss: 3.789e-06: 100%|██████████| 111/111 [00:21<00:00,  5.10it/s]\n",
      "Epoch: 56 | Step 6216 | Loss: 3.473e-06: 100%|██████████| 111/111 [00:16<00:00,  6.91it/s]\n",
      "Epoch: 57 | Step 6327 | Loss: 3.194e-06: 100%|██████████| 111/111 [00:16<00:00,  6.81it/s]\n",
      "Epoch: 58 | Step 6438 | Loss: 2.955e-06: 100%|██████████| 111/111 [00:16<00:00,  6.81it/s]\n",
      "Epoch: 59 | Step 6549 | Loss: 2.729e-06: 100%|██████████| 111/111 [00:16<00:00,  6.65it/s]\n",
      "Epoch: 60 | Step 6660 | Loss: 2.503e-06: 100%|██████████| 111/111 [00:16<00:00,  6.75it/s]\n",
      "Epoch: 61 | Step 6771 | Loss: 2.293e-06: 100%|██████████| 111/111 [00:16<00:00,  6.93it/s]\n",
      "Epoch: 62 | Step 6882 | Loss: 2.107e-06: 100%|██████████| 111/111 [00:16<00:00,  6.82it/s]\n",
      "Epoch: 63 | Step 6993 | Loss: 1.951e-06: 100%|██████████| 111/111 [00:15<00:00,  6.97it/s]\n",
      "Epoch: 64 | Step 7104 | Loss: 1.822e-06: 100%|██████████| 111/111 [00:16<00:00,  6.86it/s]\n",
      "Epoch: 65 | Step 7215 | Loss: 1.691e-06: 100%|██████████| 111/111 [00:16<00:00,  6.90it/s]\n",
      "Epoch: 66 | Step 7326 | Loss: 1.549e-06: 100%|██████████| 111/111 [00:15<00:00,  6.99it/s]\n",
      "Epoch: 67 | Step 7437 | Loss: 1.414e-06: 100%|██████████| 111/111 [00:16<00:00,  6.88it/s]\n",
      "Epoch: 68 | Step 7548 | Loss: 1.298e-06: 100%|██████████| 111/111 [00:16<00:00,  6.84it/s]\n",
      "Epoch: 69 | Step 7659 | Loss: 1.183e-06: 100%|██████████| 111/111 [00:16<00:00,  6.89it/s]\n",
      "Epoch: 70 | Step 7770 | Loss: 1.071e-06: 100%|██████████| 111/111 [00:16<00:00,  6.91it/s]\n",
      "Epoch: 71 | Step 7881 | Loss: 9.688e-07: 100%|██████████| 111/111 [00:16<00:00,  6.74it/s]\n",
      "Epoch: 72 | Step 7992 | Loss: 8.945e-07: 100%|██████████| 111/111 [00:16<00:00,  6.82it/s]\n",
      "Epoch: 73 | Step 8103 | Loss: 8.474e-07: 100%|██████████| 111/111 [00:22<00:00,  4.93it/s]\n",
      "Epoch: 74 | Step 8214 | Loss: 8.061e-07: 100%|██████████| 111/111 [00:16<00:00,  6.71it/s]\n",
      "Epoch: 75 | Step 8325 | Loss: 7.566e-07: 100%|██████████| 111/111 [00:16<00:00,  6.61it/s]\n",
      "Epoch: 76 | Step 8396 | Loss: 7.127e-07:  63%|██████▎   | 70/111 [00:10<00:05,  7.32it/s]"
     ]
    }
   ],
   "source": [
    "# Train\n",
    "train(config_file=config_file, checkpoint_file='checkpoints/latest_model.pt')"
   ],
   "metadata": {
    "collapsed": false,
    "pycharm": {
     "name": "#%%\n",
     "is_executing": true
    }
   }
  },
  {
   "cell_type": "code",
   "execution_count": null,
   "outputs": [],
   "source": [],
   "metadata": {
    "collapsed": false,
    "pycharm": {
     "name": "#%%\n"
    }
   }
  }
 ],
 "metadata": {
  "kernelspec": {
   "display_name": "Python 3",
   "language": "python",
   "name": "python3"
  },
  "language_info": {
   "codemirror_mode": {
    "name": "ipython",
    "version": 2
   },
   "file_extension": ".py",
   "mimetype": "text/x-python",
   "name": "python",
   "nbconvert_exporter": "python",
   "pygments_lexer": "ipython2",
   "version": "2.7.6"
  }
 },
 "nbformat": 4,
 "nbformat_minor": 0
}